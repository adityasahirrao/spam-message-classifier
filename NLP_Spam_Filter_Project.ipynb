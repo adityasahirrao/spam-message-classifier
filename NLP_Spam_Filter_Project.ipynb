{
  "nbformat": 4,
  "nbformat_minor": 0,
  "metadata": {
    "colab": {
      "name": "NLP_Spam Filter_Project.ipynb",
      "provenance": []
    },
    "kernelspec": {
      "name": "python3",
      "display_name": "Python 3"
    },
    "language_info": {
      "name": "python"
    }
  },
  "cells": [
    {
      "cell_type": "code",
      "execution_count": null,
      "metadata": {
        "id": "Lg1XZ-6WBYgJ"
      },
      "outputs": [],
      "source": [
        "import nltk\n",
        "import sklearn\n",
        "import pandas\n",
        "import numpy"
      ]
    },
    {
      "cell_type": "code",
      "source": [
        "import pandas as pd\n",
        "import numpy as np"
      ],
      "metadata": {
        "id": "Wu_e9xreB9EN"
      },
      "execution_count": null,
      "outputs": []
    },
    {
      "cell_type": "code",
      "source": [
        "# Importing Data\n",
        "from google.colab import files\n",
        "uploaded = files.upload()"
      ],
      "metadata": {
        "colab": {
          "resources": {
            "http://localhost:8080/nbextensions/google.colab/files.js": {
              "data": "Ly8gQ29weXJpZ2h0IDIwMTcgR29vZ2xlIExMQwovLwovLyBMaWNlbnNlZCB1bmRlciB0aGUgQXBhY2hlIExpY2Vuc2UsIFZlcnNpb24gMi4wICh0aGUgIkxpY2Vuc2UiKTsKLy8geW91IG1heSBub3QgdXNlIHRoaXMgZmlsZSBleGNlcHQgaW4gY29tcGxpYW5jZSB3aXRoIHRoZSBMaWNlbnNlLgovLyBZb3UgbWF5IG9idGFpbiBhIGNvcHkgb2YgdGhlIExpY2Vuc2UgYXQKLy8KLy8gICAgICBodHRwOi8vd3d3LmFwYWNoZS5vcmcvbGljZW5zZXMvTElDRU5TRS0yLjAKLy8KLy8gVW5sZXNzIHJlcXVpcmVkIGJ5IGFwcGxpY2FibGUgbGF3IG9yIGFncmVlZCB0byBpbiB3cml0aW5nLCBzb2Z0d2FyZQovLyBkaXN0cmlidXRlZCB1bmRlciB0aGUgTGljZW5zZSBpcyBkaXN0cmlidXRlZCBvbiBhbiAiQVMgSVMiIEJBU0lTLAovLyBXSVRIT1VUIFdBUlJBTlRJRVMgT1IgQ09ORElUSU9OUyBPRiBBTlkgS0lORCwgZWl0aGVyIGV4cHJlc3Mgb3IgaW1wbGllZC4KLy8gU2VlIHRoZSBMaWNlbnNlIGZvciB0aGUgc3BlY2lmaWMgbGFuZ3VhZ2UgZ292ZXJuaW5nIHBlcm1pc3Npb25zIGFuZAovLyBsaW1pdGF0aW9ucyB1bmRlciB0aGUgTGljZW5zZS4KCi8qKgogKiBAZmlsZW92ZXJ2aWV3IEhlbHBlcnMgZm9yIGdvb2dsZS5jb2xhYiBQeXRob24gbW9kdWxlLgogKi8KKGZ1bmN0aW9uKHNjb3BlKSB7CmZ1bmN0aW9uIHNwYW4odGV4dCwgc3R5bGVBdHRyaWJ1dGVzID0ge30pIHsKICBjb25zdCBlbGVtZW50ID0gZG9jdW1lbnQuY3JlYXRlRWxlbWVudCgnc3BhbicpOwogIGVsZW1lbnQudGV4dENvbnRlbnQgPSB0ZXh0OwogIGZvciAoY29uc3Qga2V5IG9mIE9iamVjdC5rZXlzKHN0eWxlQXR0cmlidXRlcykpIHsKICAgIGVsZW1lbnQuc3R5bGVba2V5XSA9IHN0eWxlQXR0cmlidXRlc1trZXldOwogIH0KICByZXR1cm4gZWxlbWVudDsKfQoKLy8gTWF4IG51bWJlciBvZiBieXRlcyB3aGljaCB3aWxsIGJlIHVwbG9hZGVkIGF0IGEgdGltZS4KY29uc3QgTUFYX1BBWUxPQURfU0laRSA9IDEwMCAqIDEwMjQ7CgpmdW5jdGlvbiBfdXBsb2FkRmlsZXMoaW5wdXRJZCwgb3V0cHV0SWQpIHsKICBjb25zdCBzdGVwcyA9IHVwbG9hZEZpbGVzU3RlcChpbnB1dElkLCBvdXRwdXRJZCk7CiAgY29uc3Qgb3V0cHV0RWxlbWVudCA9IGRvY3VtZW50LmdldEVsZW1lbnRCeUlkKG91dHB1dElkKTsKICAvLyBDYWNoZSBzdGVwcyBvbiB0aGUgb3V0cHV0RWxlbWVudCB0byBtYWtlIGl0IGF2YWlsYWJsZSBmb3IgdGhlIG5leHQgY2FsbAogIC8vIHRvIHVwbG9hZEZpbGVzQ29udGludWUgZnJvbSBQeXRob24uCiAgb3V0cHV0RWxlbWVudC5zdGVwcyA9IHN0ZXBzOwoKICByZXR1cm4gX3VwbG9hZEZpbGVzQ29udGludWUob3V0cHV0SWQpOwp9CgovLyBUaGlzIGlzIHJvdWdobHkgYW4gYXN5bmMgZ2VuZXJhdG9yIChub3Qgc3VwcG9ydGVkIGluIHRoZSBicm93c2VyIHlldCksCi8vIHdoZXJlIHRoZXJlIGFyZSBtdWx0aXBsZSBhc3luY2hyb25vdXMgc3RlcHMgYW5kIHRoZSBQeXRob24gc2lkZSBpcyBnb2luZwovLyB0byBwb2xsIGZvciBjb21wbGV0aW9uIG9mIGVhY2ggc3RlcC4KLy8gVGhpcyB1c2VzIGEgUHJvbWlzZSB0byBibG9jayB0aGUgcHl0aG9uIHNpZGUgb24gY29tcGxldGlvbiBvZiBlYWNoIHN0ZXAsCi8vIHRoZW4gcGFzc2VzIHRoZSByZXN1bHQgb2YgdGhlIHByZXZpb3VzIHN0ZXAgYXMgdGhlIGlucHV0IHRvIHRoZSBuZXh0IHN0ZXAuCmZ1bmN0aW9uIF91cGxvYWRGaWxlc0NvbnRpbnVlKG91dHB1dElkKSB7CiAgY29uc3Qgb3V0cHV0RWxlbWVudCA9IGRvY3VtZW50LmdldEVsZW1lbnRCeUlkKG91dHB1dElkKTsKICBjb25zdCBzdGVwcyA9IG91dHB1dEVsZW1lbnQuc3RlcHM7CgogIGNvbnN0IG5leHQgPSBzdGVwcy5uZXh0KG91dHB1dEVsZW1lbnQubGFzdFByb21pc2VWYWx1ZSk7CiAgcmV0dXJuIFByb21pc2UucmVzb2x2ZShuZXh0LnZhbHVlLnByb21pc2UpLnRoZW4oKHZhbHVlKSA9PiB7CiAgICAvLyBDYWNoZSB0aGUgbGFzdCBwcm9taXNlIHZhbHVlIHRvIG1ha2UgaXQgYXZhaWxhYmxlIHRvIHRoZSBuZXh0CiAgICAvLyBzdGVwIG9mIHRoZSBnZW5lcmF0b3IuCiAgICBvdXRwdXRFbGVtZW50Lmxhc3RQcm9taXNlVmFsdWUgPSB2YWx1ZTsKICAgIHJldHVybiBuZXh0LnZhbHVlLnJlc3BvbnNlOwogIH0pOwp9CgovKioKICogR2VuZXJhdG9yIGZ1bmN0aW9uIHdoaWNoIGlzIGNhbGxlZCBiZXR3ZWVuIGVhY2ggYXN5bmMgc3RlcCBvZiB0aGUgdXBsb2FkCiAqIHByb2Nlc3MuCiAqIEBwYXJhbSB7c3RyaW5nfSBpbnB1dElkIEVsZW1lbnQgSUQgb2YgdGhlIGlucHV0IGZpbGUgcGlja2VyIGVsZW1lbnQuCiAqIEBwYXJhbSB7c3RyaW5nfSBvdXRwdXRJZCBFbGVtZW50IElEIG9mIHRoZSBvdXRwdXQgZGlzcGxheS4KICogQHJldHVybiB7IUl0ZXJhYmxlPCFPYmplY3Q+fSBJdGVyYWJsZSBvZiBuZXh0IHN0ZXBzLgogKi8KZnVuY3Rpb24qIHVwbG9hZEZpbGVzU3RlcChpbnB1dElkLCBvdXRwdXRJZCkgewogIGNvbnN0IGlucHV0RWxlbWVudCA9IGRvY3VtZW50LmdldEVsZW1lbnRCeUlkKGlucHV0SWQpOwogIGlucHV0RWxlbWVudC5kaXNhYmxlZCA9IGZhbHNlOwoKICBjb25zdCBvdXRwdXRFbGVtZW50ID0gZG9jdW1lbnQuZ2V0RWxlbWVudEJ5SWQob3V0cHV0SWQpOwogIG91dHB1dEVsZW1lbnQuaW5uZXJIVE1MID0gJyc7CgogIGNvbnN0IHBpY2tlZFByb21pc2UgPSBuZXcgUHJvbWlzZSgocmVzb2x2ZSkgPT4gewogICAgaW5wdXRFbGVtZW50LmFkZEV2ZW50TGlzdGVuZXIoJ2NoYW5nZScsIChlKSA9PiB7CiAgICAgIHJlc29sdmUoZS50YXJnZXQuZmlsZXMpOwogICAgfSk7CiAgfSk7CgogIGNvbnN0IGNhbmNlbCA9IGRvY3VtZW50LmNyZWF0ZUVsZW1lbnQoJ2J1dHRvbicpOwogIGlucHV0RWxlbWVudC5wYXJlbnRFbGVtZW50LmFwcGVuZENoaWxkKGNhbmNlbCk7CiAgY2FuY2VsLnRleHRDb250ZW50ID0gJ0NhbmNlbCB1cGxvYWQnOwogIGNvbnN0IGNhbmNlbFByb21pc2UgPSBuZXcgUHJvbWlzZSgocmVzb2x2ZSkgPT4gewogICAgY2FuY2VsLm9uY2xpY2sgPSAoKSA9PiB7CiAgICAgIHJlc29sdmUobnVsbCk7CiAgICB9OwogIH0pOwoKICAvLyBXYWl0IGZvciB0aGUgdXNlciB0byBwaWNrIHRoZSBmaWxlcy4KICBjb25zdCBmaWxlcyA9IHlpZWxkIHsKICAgIHByb21pc2U6IFByb21pc2UucmFjZShbcGlja2VkUHJvbWlzZSwgY2FuY2VsUHJvbWlzZV0pLAogICAgcmVzcG9uc2U6IHsKICAgICAgYWN0aW9uOiAnc3RhcnRpbmcnLAogICAgfQogIH07CgogIGNhbmNlbC5yZW1vdmUoKTsKCiAgLy8gRGlzYWJsZSB0aGUgaW5wdXQgZWxlbWVudCBzaW5jZSBmdXJ0aGVyIHBpY2tzIGFyZSBub3QgYWxsb3dlZC4KICBpbnB1dEVsZW1lbnQuZGlzYWJsZWQgPSB0cnVlOwoKICBpZiAoIWZpbGVzKSB7CiAgICByZXR1cm4gewogICAgICByZXNwb25zZTogewogICAgICAgIGFjdGlvbjogJ2NvbXBsZXRlJywKICAgICAgfQogICAgfTsKICB9CgogIGZvciAoY29uc3QgZmlsZSBvZiBmaWxlcykgewogICAgY29uc3QgbGkgPSBkb2N1bWVudC5jcmVhdGVFbGVtZW50KCdsaScpOwogICAgbGkuYXBwZW5kKHNwYW4oZmlsZS5uYW1lLCB7Zm9udFdlaWdodDogJ2JvbGQnfSkpOwogICAgbGkuYXBwZW5kKHNwYW4oCiAgICAgICAgYCgke2ZpbGUudHlwZSB8fCAnbi9hJ30pIC0gJHtmaWxlLnNpemV9IGJ5dGVzLCBgICsKICAgICAgICBgbGFzdCBtb2RpZmllZDogJHsKICAgICAgICAgICAgZmlsZS5sYXN0TW9kaWZpZWREYXRlID8gZmlsZS5sYXN0TW9kaWZpZWREYXRlLnRvTG9jYWxlRGF0ZVN0cmluZygpIDoKICAgICAgICAgICAgICAgICAgICAgICAgICAgICAgICAgICAgJ24vYSd9IC0gYCkpOwogICAgY29uc3QgcGVyY2VudCA9IHNwYW4oJzAlIGRvbmUnKTsKICAgIGxpLmFwcGVuZENoaWxkKHBlcmNlbnQpOwoKICAgIG91dHB1dEVsZW1lbnQuYXBwZW5kQ2hpbGQobGkpOwoKICAgIGNvbnN0IGZpbGVEYXRhUHJvbWlzZSA9IG5ldyBQcm9taXNlKChyZXNvbHZlKSA9PiB7CiAgICAgIGNvbnN0IHJlYWRlciA9IG5ldyBGaWxlUmVhZGVyKCk7CiAgICAgIHJlYWRlci5vbmxvYWQgPSAoZSkgPT4gewogICAgICAgIHJlc29sdmUoZS50YXJnZXQucmVzdWx0KTsKICAgICAgfTsKICAgICAgcmVhZGVyLnJlYWRBc0FycmF5QnVmZmVyKGZpbGUpOwogICAgfSk7CiAgICAvLyBXYWl0IGZvciB0aGUgZGF0YSB0byBiZSByZWFkeS4KICAgIGxldCBmaWxlRGF0YSA9IHlpZWxkIHsKICAgICAgcHJvbWlzZTogZmlsZURhdGFQcm9taXNlLAogICAgICByZXNwb25zZTogewogICAgICAgIGFjdGlvbjogJ2NvbnRpbnVlJywKICAgICAgfQogICAgfTsKCiAgICAvLyBVc2UgYSBjaHVua2VkIHNlbmRpbmcgdG8gYXZvaWQgbWVzc2FnZSBzaXplIGxpbWl0cy4gU2VlIGIvNjIxMTU2NjAuCiAgICBsZXQgcG9zaXRpb24gPSAwOwogICAgZG8gewogICAgICBjb25zdCBsZW5ndGggPSBNYXRoLm1pbihmaWxlRGF0YS5ieXRlTGVuZ3RoIC0gcG9zaXRpb24sIE1BWF9QQVlMT0FEX1NJWkUpOwogICAgICBjb25zdCBjaHVuayA9IG5ldyBVaW50OEFycmF5KGZpbGVEYXRhLCBwb3NpdGlvbiwgbGVuZ3RoKTsKICAgICAgcG9zaXRpb24gKz0gbGVuZ3RoOwoKICAgICAgY29uc3QgYmFzZTY0ID0gYnRvYShTdHJpbmcuZnJvbUNoYXJDb2RlLmFwcGx5KG51bGwsIGNodW5rKSk7CiAgICAgIHlpZWxkIHsKICAgICAgICByZXNwb25zZTogewogICAgICAgICAgYWN0aW9uOiAnYXBwZW5kJywKICAgICAgICAgIGZpbGU6IGZpbGUubmFtZSwKICAgICAgICAgIGRhdGE6IGJhc2U2NCwKICAgICAgICB9LAogICAgICB9OwoKICAgICAgbGV0IHBlcmNlbnREb25lID0gZmlsZURhdGEuYnl0ZUxlbmd0aCA9PT0gMCA/CiAgICAgICAgICAxMDAgOgogICAgICAgICAgTWF0aC5yb3VuZCgocG9zaXRpb24gLyBmaWxlRGF0YS5ieXRlTGVuZ3RoKSAqIDEwMCk7CiAgICAgIHBlcmNlbnQudGV4dENvbnRlbnQgPSBgJHtwZXJjZW50RG9uZX0lIGRvbmVgOwoKICAgIH0gd2hpbGUgKHBvc2l0aW9uIDwgZmlsZURhdGEuYnl0ZUxlbmd0aCk7CiAgfQoKICAvLyBBbGwgZG9uZS4KICB5aWVsZCB7CiAgICByZXNwb25zZTogewogICAgICBhY3Rpb246ICdjb21wbGV0ZScsCiAgICB9CiAgfTsKfQoKc2NvcGUuZ29vZ2xlID0gc2NvcGUuZ29vZ2xlIHx8IHt9OwpzY29wZS5nb29nbGUuY29sYWIgPSBzY29wZS5nb29nbGUuY29sYWIgfHwge307CnNjb3BlLmdvb2dsZS5jb2xhYi5fZmlsZXMgPSB7CiAgX3VwbG9hZEZpbGVzLAogIF91cGxvYWRGaWxlc0NvbnRpbnVlLAp9Owp9KShzZWxmKTsK",
              "ok": true,
              "headers": [
                [
                  "content-type",
                  "application/javascript"
                ]
              ],
              "status": 200,
              "status_text": ""
            }
          },
          "base_uri": "https://localhost:8080/",
          "height": 74
        },
        "id": "nNElFNQ4CE6K",
        "outputId": "b4360e15-9f57-4a9b-9f67-553e49e43186"
      },
      "execution_count": null,
      "outputs": [
        {
          "output_type": "display_data",
          "data": {
            "text/plain": [
              "<IPython.core.display.HTML object>"
            ],
            "text/html": [
              "\n",
              "     <input type=\"file\" id=\"files-04893954-cd7c-418e-8aeb-e9843cc86975\" name=\"files[]\" multiple disabled\n",
              "        style=\"border:none\" />\n",
              "     <output id=\"result-04893954-cd7c-418e-8aeb-e9843cc86975\">\n",
              "      Upload widget is only available when the cell has been executed in the\n",
              "      current browser session. Please rerun this cell to enable.\n",
              "      </output>\n",
              "      <script src=\"/nbextensions/google.colab/files.js\"></script> "
            ]
          },
          "metadata": {}
        },
        {
          "output_type": "stream",
          "name": "stdout",
          "text": [
            "Saving SMSSpamCollection to SMSSpamCollection (3)\n"
          ]
        }
      ]
    },
    {
      "cell_type": "code",
      "source": [
        "df = pd.read_table('/content/SMSSpamCollection (3)', header=None, encoding='utf-8')"
      ],
      "metadata": {
        "id": "j65U8Bm8C5gH"
      },
      "execution_count": null,
      "outputs": []
    },
    {
      "cell_type": "code",
      "source": [
        "print(df.info())\n",
        "print(df.head())"
      ],
      "metadata": {
        "colab": {
          "base_uri": "https://localhost:8080/"
        },
        "id": "tFhX0TzEDmRL",
        "outputId": "975d5e6a-92a8-4dc5-df24-12eb347c6ddc"
      },
      "execution_count": null,
      "outputs": [
        {
          "output_type": "stream",
          "name": "stdout",
          "text": [
            "<class 'pandas.core.frame.DataFrame'>\n",
            "RangeIndex: 5572 entries, 0 to 5571\n",
            "Data columns (total 2 columns):\n",
            " #   Column  Non-Null Count  Dtype \n",
            "---  ------  --------------  ----- \n",
            " 0   0       5572 non-null   object\n",
            " 1   1       5572 non-null   object\n",
            "dtypes: object(2)\n",
            "memory usage: 87.2+ KB\n",
            "None\n",
            "      0                                                  1\n",
            "0   ham  Go until jurong point, crazy.. Available only ...\n",
            "1   ham                      Ok lar... Joking wif u oni...\n",
            "2  spam  Free entry in 2 a wkly comp to win FA Cup fina...\n",
            "3   ham  U dun say so early hor... U c already then say...\n",
            "4   ham  Nah I don't think he goes to usf, he lives aro...\n"
          ]
        }
      ]
    },
    {
      "cell_type": "code",
      "source": [
        "classes = df[0]\n",
        "print(classes.value_counts())"
      ],
      "metadata": {
        "colab": {
          "base_uri": "https://localhost:8080/"
        },
        "id": "CZilYDB7D3v1",
        "outputId": "6e37a79e-4bcc-45de-bdf7-23d95d9fbd7d"
      },
      "execution_count": null,
      "outputs": [
        {
          "output_type": "stream",
          "name": "stdout",
          "text": [
            "ham     4825\n",
            "spam     747\n",
            "Name: 0, dtype: int64\n"
          ]
        }
      ]
    },
    {
      "cell_type": "code",
      "source": [
        "# PreProcessing\n",
        "from sklearn.preprocessing import LabelEncoder\n",
        "\n",
        "# 0 = ham and 1 = spam\n",
        "encoder = LabelEncoder()\n",
        "Y = encoder.fit_transform(classes)\n",
        "\n",
        "print(Y[:20])"
      ],
      "metadata": {
        "id": "mgqsT3m2D-yG",
        "colab": {
          "base_uri": "https://localhost:8080/"
        },
        "outputId": "d10a7b9d-50d6-47ed-aaa9-349229718d4f"
      },
      "execution_count": null,
      "outputs": [
        {
          "output_type": "stream",
          "name": "stdout",
          "text": [
            "[0 0 1 0 0 1 0 0 1 1 0 1 1 0 0 1 0 0 0 1]\n"
          ]
        }
      ]
    },
    {
      "cell_type": "code",
      "source": [
        "text_messages = df[1]\n",
        "print(text_messages[:20])"
      ],
      "metadata": {
        "colab": {
          "base_uri": "https://localhost:8080/"
        },
        "id": "aFaaOmuAfg5z",
        "outputId": "32ad09d0-93d5-4427-8882-25dc663e77b1"
      },
      "execution_count": null,
      "outputs": [
        {
          "output_type": "stream",
          "name": "stdout",
          "text": [
            "0     Go until jurong point, crazy.. Available only ...\n",
            "1                         Ok lar... Joking wif u oni...\n",
            "2     Free entry in 2 a wkly comp to win FA Cup fina...\n",
            "3     U dun say so early hor... U c already then say...\n",
            "4     Nah I don't think he goes to usf, he lives aro...\n",
            "5     FreeMsg Hey there darling it's been 3 week's n...\n",
            "6     Even my brother is not like to speak with me. ...\n",
            "7     As per your request 'Melle Melle (Oru Minnamin...\n",
            "8     WINNER!! As a valued network customer you have...\n",
            "9     Had your mobile 11 months or more? U R entitle...\n",
            "10    I'm gonna be home soon and i don't want to tal...\n",
            "11    SIX chances to win CASH! From 100 to 20,000 po...\n",
            "12    URGENT! You have won a 1 week FREE membership ...\n",
            "13    I've been searching for the right words to tha...\n",
            "14                  I HAVE A DATE ON SUNDAY WITH WILL!!\n",
            "15    XXXMobileMovieClub: To use your credit, click ...\n",
            "16                           Oh k...i'm watching here:)\n",
            "17    Eh u remember how 2 spell his name... Yes i di...\n",
            "18    Fine if thats the way u feel. Thats the way ...\n",
            "19    England v Macedonia - dont miss the goals/team...\n",
            "Name: 1, dtype: object\n"
          ]
        }
      ]
    },
    {
      "cell_type": "code",
      "source": [
        "# Replacing email addresses with 'email'\n",
        "processed = text_messages.str.replace(r'^.+@[^\\.].*\\.[a-z]{2,}$',\n",
        "                                 'emailaddress')\n",
        "\n",
        "# Replacing URLs with 'webaddress'\n",
        "processed = processed.str.replace(r'^http\\://[a-zA-Z0-9\\-\\.]+\\.[a-zA-Z]{2,3}(/\\S*)?$',\n",
        "                                  'webaddress')\n",
        "\n",
        "# Replacing money symbols with 'moneysymb' (£ can by typed with ALT key + 156)\n",
        "processed = processed.str.replace(r'£|\\$', 'moneysymb')\n",
        "    \n",
        "# Replacing 10 digit phone numbers (formats include paranthesis, spaces, no spaces, dashes) with 'phonenumber'\n",
        "processed = processed.str.replace(r'^\\(?[\\d]{3}\\)?[\\s-]?[\\d]{3}[\\s-]?[\\d]{4}$',\n",
        "                                  'phonenumbr')\n",
        "    \n",
        "# Replacing numbers with 'numbr'\n",
        "processed = processed.str.replace(r'\\d+(\\.\\d+)?', 'numbr')"
      ],
      "metadata": {
        "colab": {
          "base_uri": "https://localhost:8080/"
        },
        "id": "6B_e4XCpoVsr",
        "outputId": "d5a71d65-f5ef-4897-873d-e2fc622c0535"
      },
      "execution_count": null,
      "outputs": [
        {
          "output_type": "stream",
          "name": "stderr",
          "text": [
            "/usr/local/lib/python3.7/dist-packages/ipykernel_launcher.py:3: FutureWarning: The default value of regex will change from True to False in a future version.\n",
            "  This is separate from the ipykernel package so we can avoid doing imports until\n",
            "/usr/local/lib/python3.7/dist-packages/ipykernel_launcher.py:7: FutureWarning: The default value of regex will change from True to False in a future version.\n",
            "  import sys\n",
            "/usr/local/lib/python3.7/dist-packages/ipykernel_launcher.py:10: FutureWarning: The default value of regex will change from True to False in a future version.\n",
            "  # Remove the CWD from sys.path while we load stuff.\n",
            "/usr/local/lib/python3.7/dist-packages/ipykernel_launcher.py:14: FutureWarning: The default value of regex will change from True to False in a future version.\n",
            "  \n",
            "/usr/local/lib/python3.7/dist-packages/ipykernel_launcher.py:17: FutureWarning: The default value of regex will change from True to False in a future version.\n"
          ]
        }
      ]
    },
    {
      "cell_type": "code",
      "source": [
        "# Removing punctuation\n",
        "processed = processed.str.replace(r'[^\\w\\d\\s]', ' ')\n",
        "\n",
        "# Replacing whitespace between terms with a single space\n",
        "processed = processed.str.replace(r'\\s+', ' ')\n",
        "\n",
        "# Removing leading and trailing whitespace\n",
        "processed = processed.str.replace(r'^\\s+|\\s+?$', '')"
      ],
      "metadata": {
        "colab": {
          "base_uri": "https://localhost:8080/"
        },
        "id": "t7NMHqpAooiA",
        "outputId": "a353a0a4-6705-4e36-e668-0c1fd0280728"
      },
      "execution_count": null,
      "outputs": [
        {
          "output_type": "stream",
          "name": "stderr",
          "text": [
            "/usr/local/lib/python3.7/dist-packages/ipykernel_launcher.py:2: FutureWarning: The default value of regex will change from True to False in a future version.\n",
            "  \n",
            "/usr/local/lib/python3.7/dist-packages/ipykernel_launcher.py:5: FutureWarning: The default value of regex will change from True to False in a future version.\n",
            "  \"\"\"\n",
            "/usr/local/lib/python3.7/dist-packages/ipykernel_launcher.py:8: FutureWarning: The default value of regex will change from True to False in a future version.\n",
            "  \n"
          ]
        }
      ]
    },
    {
      "cell_type": "code",
      "source": [
        "processed = processed.str.lower()\n",
        "print(processed)"
      ],
      "metadata": {
        "colab": {
          "base_uri": "https://localhost:8080/"
        },
        "id": "pMA2lM3moyyU",
        "outputId": "f5db0db9-e446-45b5-ef95-d73d07eabbeb"
      },
      "execution_count": null,
      "outputs": [
        {
          "output_type": "stream",
          "name": "stdout",
          "text": [
            "0       go until jurong point crazy available only in ...\n",
            "1                                 ok lar joking wif u oni\n",
            "2       free entry in numbr a wkly comp to win fa cup ...\n",
            "3             u dun say so early hor u c already then say\n",
            "4       nah i don t think he goes to usf he lives arou...\n",
            "                              ...                        \n",
            "5567    this is the numbrnd time we have tried numbr c...\n",
            "5568                  will ü b going to esplanade fr home\n",
            "5569    pity was in mood for that so any other suggest...\n",
            "5570    the guy did some bitching but i acted like i d...\n",
            "5571                            rofl its true to its name\n",
            "Name: 1, Length: 5572, dtype: object\n"
          ]
        }
      ]
    },
    {
      "cell_type": "code",
      "source": [
        "# removing stop words\n",
        "nltk.download(\"stopwords\")\n",
        "from nltk.corpus import stopwords\n",
        "\n",
        "stop_words = set(stopwords.words('english'))\n",
        "\n",
        "processed = processed.apply(lambda x: ' '.join(\n",
        "    term for term in x.split() if term not in stop_words))"
      ],
      "metadata": {
        "colab": {
          "base_uri": "https://localhost:8080/"
        },
        "id": "LAPfJElbo1qP",
        "outputId": "83d8e6e3-68af-4587-ca2d-64cb768e5691"
      },
      "execution_count": null,
      "outputs": [
        {
          "output_type": "stream",
          "name": "stderr",
          "text": [
            "[nltk_data] Downloading package stopwords to /root/nltk_data...\n",
            "[nltk_data]   Package stopwords is already up-to-date!\n"
          ]
        }
      ]
    },
    {
      "cell_type": "code",
      "source": [
        "# Remove word stems using a Porter stemmer\n",
        "ps = nltk.PorterStemmer()\n",
        "\n",
        "processed = processed.apply(lambda x: ' '.join(\n",
        "    ps.stem(term) for term in x.split()))"
      ],
      "metadata": {
        "id": "hKxUX0yXprk2"
      },
      "execution_count": null,
      "outputs": []
    },
    {
      "cell_type": "code",
      "source": [
        "import nltk\n",
        "nltk.download('punkt')\n",
        "from nltk.tokenize import word_tokenize\n",
        "\n",
        "# create bag-of-words\n",
        "all_words = []\n",
        "\n",
        "for message in processed:\n",
        "    words = word_tokenize(message)\n",
        "    for w in words:\n",
        "        all_words.append(w)\n",
        "        \n",
        "all_words = nltk.FreqDist(all_words)"
      ],
      "metadata": {
        "colab": {
          "base_uri": "https://localhost:8080/"
        },
        "id": "_Uav3noYyjWx",
        "outputId": "e0a13094-4d07-4b9e-d372-9d78f85e57c1"
      },
      "execution_count": null,
      "outputs": [
        {
          "output_type": "stream",
          "name": "stderr",
          "text": [
            "[nltk_data] Downloading package punkt to /root/nltk_data...\n",
            "[nltk_data]   Package punkt is already up-to-date!\n"
          ]
        }
      ]
    },
    {
      "cell_type": "code",
      "source": [
        "# print the total number of words and the 15 most common words\n",
        "print('Number of words: {}'.format(len(all_words)))\n",
        "print('Most common words: {}'.format(all_words.most_common(15)))"
      ],
      "metadata": {
        "colab": {
          "base_uri": "https://localhost:8080/"
        },
        "id": "bazT9KXWyujh",
        "outputId": "32f27583-7e9a-4b73-8991-e0248f8a6d4b"
      },
      "execution_count": null,
      "outputs": [
        {
          "output_type": "stream",
          "name": "stdout",
          "text": [
            "Number of words: 6579\n",
            "Most common words: [('numbr', 2648), ('u', 1207), ('call', 674), ('go', 456), ('get', 451), ('ur', 391), ('gt', 318), ('lt', 316), ('come', 304), ('moneysymbnumbr', 303), ('ok', 293), ('free', 284), ('day', 276), ('know', 275), ('love', 266)]\n"
          ]
        }
      ]
    },
    {
      "cell_type": "code",
      "source": [
        "# use the 1500 most common words as features\n",
        "word_features = list(all_words.keys())[:1500]"
      ],
      "metadata": {
        "id": "-XHeXGsjy8yi"
      },
      "execution_count": null,
      "outputs": []
    },
    {
      "cell_type": "code",
      "source": [
        "# The find_features function will determine which of the 1500 word features are contained in the review\n",
        "def find_features(message):\n",
        "    words = word_tokenize(message)\n",
        "    features = {}\n",
        "    for word in word_features:\n",
        "        features[word] = (word in words)\n",
        "\n",
        "    return features\n",
        "\n",
        "# Lets see an example!\n",
        "features = find_features(processed[0])\n",
        "for key, value in features.items():\n",
        "    if value == True:\n",
        "        print(key)"
      ],
      "metadata": {
        "colab": {
          "base_uri": "https://localhost:8080/"
        },
        "id": "7aed21Gcy_nF",
        "outputId": "cf33bc6f-0b72-48b7-87b1-5ba4dc5c7797"
      },
      "execution_count": null,
      "outputs": [
        {
          "output_type": "stream",
          "name": "stdout",
          "text": [
            "go\n",
            "jurong\n",
            "point\n",
            "crazi\n",
            "avail\n",
            "bugi\n",
            "n\n",
            "great\n",
            "world\n",
            "la\n",
            "e\n",
            "buffet\n",
            "cine\n",
            "got\n",
            "amor\n",
            "wat\n"
          ]
        }
      ]
    },
    {
      "cell_type": "code",
      "source": [
        "messages = list(zip(processed, Y))\n",
        "\n",
        "# calling find_features function for each SMS message\n",
        "featuresets = [(find_features(text), label) for (text, label) in messages]"
      ],
      "metadata": {
        "id": "bjH6XOTdzED9"
      },
      "execution_count": null,
      "outputs": []
    },
    {
      "cell_type": "code",
      "source": [
        "# model selection\n",
        "from sklearn import model_selection\n",
        "\n",
        "# split the data into training and testing datasets\n",
        "training, testing = model_selection.train_test_split(featuresets, test_size = 0.25, random_state=10)"
      ],
      "metadata": {
        "id": "pl6_HPMzzVyn"
      },
      "execution_count": null,
      "outputs": []
    },
    {
      "cell_type": "code",
      "source": [
        "print(len(training))\n",
        "print(len(testing))"
      ],
      "metadata": {
        "colab": {
          "base_uri": "https://localhost:8080/"
        },
        "id": "OMAbcLKW0PaR",
        "outputId": "9cf735f9-5522-4d5c-9c9c-268ea5ae0da5"
      },
      "execution_count": null,
      "outputs": [
        {
          "output_type": "stream",
          "name": "stdout",
          "text": [
            "4179\n",
            "1393\n"
          ]
        }
      ]
    },
    {
      "cell_type": "code",
      "source": [
        "# We can use sklearn algorithms in NLTK\n",
        "from nltk.classify.scikitlearn import SklearnClassifier\n",
        "from sklearn.svm import SVC\n",
        "\n",
        "model = SklearnClassifier(SVC(kernel = 'linear'))\n",
        "\n",
        "# train the model on the training data\n",
        "model1 = model.train(training)\n",
        "\n",
        "# and test on the testing dataset!\n",
        "accuracy = nltk.classify.accuracy(model1, testing)*100\n",
        "print(\"SVC Accuracy: {}\".format(accuracy))"
      ],
      "metadata": {
        "colab": {
          "base_uri": "https://localhost:8080/"
        },
        "id": "9swkgquT0SGS",
        "outputId": "4b5c9953-52ac-4314-eb23-5c85e357a761"
      },
      "execution_count": null,
      "outputs": [
        {
          "output_type": "stream",
          "name": "stdout",
          "text": [
            "SVC Accuracy: 98.1335247666906\n"
          ]
        }
      ]
    },
    {
      "cell_type": "code",
      "source": [
        "print(featuresets[0])"
      ],
      "metadata": {
        "colab": {
          "base_uri": "https://localhost:8080/"
        },
        "id": "TK5o_DFoJ9DZ",
        "outputId": "e628f043-91dd-4446-8a10-b7a691baac00"
      },
      "execution_count": null,
      "outputs": [
        {
          "output_type": "stream",
          "name": "stdout",
          "text": [
            "({'go': True, 'jurong': True, 'point': True, 'crazi': True, 'avail': True, 'bugi': True, 'n': True, 'great': True, 'world': True, 'la': True, 'e': True, 'buffet': True, 'cine': True, 'got': True, 'amor': True, 'wat': True, 'ok': False, 'lar': False, 'joke': False, 'wif': False, 'u': False, 'oni': False, 'free': False, 'entri': False, 'numbr': False, 'wkli': False, 'comp': False, 'win': False, 'fa': False, 'cup': False, 'final': False, 'tkt': False, 'numbrst': False, 'may': False, 'text': False, 'receiv': False, 'question': False, 'std': False, 'txt': False, 'rate': False, 'c': False, 'appli': False, 'numbrovernumbr': False, 'dun': False, 'say': False, 'earli': False, 'hor': False, 'alreadi': False, 'nah': False, 'think': False, 'goe': False, 'usf': False, 'live': False, 'around': False, 'though': False, 'freemsg': False, 'hey': False, 'darl': False, 'week': False, 'word': False, 'back': False, 'like': False, 'fun': False, 'still': False, 'tb': False, 'xxx': False, 'chg': False, 'send': False, 'moneysymbnumbr': False, 'rcv': False, 'even': False, 'brother': False, 'speak': False, 'treat': False, 'aid': False, 'patent': False, 'per': False, 'request': False, 'mell': False, 'oru': False, 'minnaminungint': False, 'nurungu': False, 'vettam': False, 'set': False, 'callertun': False, 'caller': False, 'press': False, 'copi': False, 'friend': False, 'winner': False, 'valu': False, 'network': False, 'custom': False, 'select': False, 'receivea': False, 'prize': False, 'reward': False, 'claim': False, 'call': False, 'code': False, 'klnumbr': False, 'valid': False, 'hour': False, 'mobil': False, 'month': False, 'r': False, 'entitl': False, 'updat': False, 'latest': False, 'colour': False, 'camera': False, 'co': False, 'gon': False, 'na': False, 'home': False, 'soon': False, 'want': False, 'talk': False, 'stuff': False, 'anymor': False, 'tonight': False, 'k': False, 'cri': False, 'enough': False, 'today': False, 'six': False, 'chanc': False, 'cash': False, 'pound': False, 'cshnumbr': False, 'cost': False, 'numbrp': False, 'day': False, 'numbrday': False, 'tsandc': False, 'repli': False, 'hl': False, 'info': False, 'urgent': False, 'membership': False, 'jackpot': False, 'www': False, 'dbuk': False, 'net': False, 'lccltd': False, 'pobox': False, 'numbrldnwnumbranumbrrwnumbr': False, 'search': False, 'right': False, 'thank': False, 'breather': False, 'promis': False, 'wont': False, 'take': False, 'help': False, 'grant': False, 'fulfil': False, 'wonder': False, 'bless': False, 'time': False, 'date': False, 'sunday': False, 'xxxmobilemovieclub': False, 'use': False, 'credit': False, 'click': False, 'wap': False, 'link': False, 'next': False, 'messag': False, 'http': False, 'com': False, 'qjkgighjjgcbl': False, 'oh': False, 'watch': False, 'eh': False, 'rememb': False, 'spell': False, 'name': False, 'ye': False, 'v': False, 'naughti': False, 'make': False, 'wet': False, 'fine': False, 'way': False, 'feel': False, 'gota': False, 'b': False, 'england': False, 'macedonia': False, 'dont': False, 'miss': False, 'goal': False, 'team': False, 'news': False, 'ur': False, 'nation': False, 'eg': False, 'tri': False, 'wale': False, 'scotland': False, 'numbrtxt': False, 'únumbr': False, 'poboxoxnumbrwnumbrwq': False, 'serious': False, 'ha': False, 'ü': False, 'pay': False, 'first': False, 'da': False, 'stock': False, 'comin': False, 'aft': False, 'finish': False, 'lunch': False, 'str': False, 'lor': False, 'ard': False, 'smth': False, 'ffffffffff': False, 'alright': False, 'meet': False, 'sooner': False, 'forc': False, 'eat': False, 'slice': False, 'realli': False, 'hungri': False, 'tho': False, 'suck': False, 'mark': False, 'get': False, 'worri': False, 'know': False, 'sick': False, 'turn': False, 'pizza': False, 'lol': False, 'alway': False, 'convinc': False, 'catch': False, 'bu': False, 'fri': False, 'egg': False, 'tea': False, 'mom': False, 'left': False, 'dinner': False, 'love': False, 'amp': False, 'pack': False, 'car': False, 'let': False, 'room': False, 'ahhh': False, 'work': False, 'vagu': False, 'wait': False, 'clear': False, 'sure': False, 'sarcast': False, 'x': False, 'us': False, 'yeah': False, 'apologet': False, 'fallen': False, 'actin': False, 'spoilt': False, 'child': False, 'caught': False, 'till': False, 'badli': False, 'cheer': False, 'tell': False, 'anyth': False, 'fear': False, 'faint': False, 'housework': False, 'quick': False, 'cuppa': False, 'subscript': False, 'rington': False, 'uk': False, 'charg': False, 'pleas': False, 'confirm': False, 'yup': False, 'look': False, 'msg': False, 'xuhui': False, 'learn': False, 'numbrnd': False, 'lesson': False, 'numbram': False, 'oop': False, 'roommat': False, 'done': False, 'see': False, 'letter': False, 'decid': False, 'hello': False, 'saturday': False, 'tomo': False, 'invit': False, 'pl': False, 'ahead': False, 'watt': False, 'weekend': False, 'abiola': False, 'forget': False, 'need': False, 'crave': False, 'sweet': False, 'arabian': False, 'steed': False, 'mmmmmm': False, 'yummi': False, 'rodger': False, 'burn': False, 'sm': False, 'nokia': False, 'camcord': False, 'deliveri': False, 'tomorrow': False, 'hope': False, 'man': False, 'well': False, 'endow': False, 'lt': False, 'gt': False, 'inch': False, 'hep': False, 'immunis': False, 'nigeria': False, 'fair': False, 'tyler': False, 'could': False, 'mayb': False, 'ask': False, 'bit': False, 'stubborn': False, 'hospit': False, 'kept': False, 'weak': False, 'sucker': False, 'saw': False, 'class': False, 'gram': False, 'usual': False, 'run': False, 'half': False, 'eighth': False, 'smarter': False, 'almost': False, 'whole': False, 'second': False, 'fyi': False, 'ride': False, 'morn': False, 'crash': False, 'place': False, 'wow': False, 'never': False, 'realiz': False, 'embarass': False, 'accomod': False, 'thought': False, 'sinc': False, 'best': False, 'seem': False, 'happi': False, 'cave': False, 'sorri': False, 'give': False, 'offer': False, 'ac': False, 'sptv': False, 'new': False, 'jersey': False, 'devil': False, 'detroit': False, 'red': False, 'wing': False, 'play': False, 'ice': False, 'hockey': False, 'correct': False, 'incorrect': False, 'end': False, 'mallika': False, 'sherawat': False, 'yesterday': False, 'find': False, 'url': False, 'congrat': False, 'year': False, 'special': False, 'cinema': False, 'pass': False, 'suprman': False, 'matrixnumbr': False, 'starwarsnumbr': False, 'etc': False, 'bxnumbr': False, 'ipnumbr': False, 'numbrw': False, 'numbrpm': False, 'later': False, 'reach': False, 'gauti': False, 'sehwag': False, 'odi': False, 'seri': False, 'pick': False, 'burger': False, 'move': False, 'pain': False, 'kill': False, 'good': False, 'girl': False, 'situat': False, 'seeker': False, 'part': False, 'check': False, 'iq': False, 'took': False, 'forev': False, 'come': False, 'doubl': False, 'hair': False, 'dresser': False, 'said': False, 'wun': False, 'cut': False, 'short': False, 'nice': False, 'advis': False, 'follow': False, 'recent': False, 'review': False, 'mob': False, 'award': False, 'bonu': False, 'song': False, 'dedic': False, 'valuabl': False, 'frnd': False, 'rpli': False, 'complimentari': False, 'trip': False, 'eurodisinc': False, 'trav': False, 'aco': False, 'entrynumbr': False, 'di': False, 'morefrmmob': False, 'shracomorsglsuplt': False, 'lsnumbr': False, 'numbraj': False, 'hear': False, 'divorc': False, 'barbi': False, 'ken': False, 'plane': False, 'wah': False, 'lucki': False, 'save': False, 'money': False, 'hee': False, 'hi': False, 'babe': False, 'im': False, 'wan': False, 'someth': False, 'xx': False, 'perform': False, 'machan': False, 'that': False, 'cool': False, 'gentleman': False, 'digniti': False, 'respect': False, 'peopl': False, 'much': False, 'shi': False, 'pa': False, 'oper': False, 'job': False, 'ta': False, 'earn': False, 'ah': False, 'stop': False, 'urgnt': False, 'real': False, 'yo': False, 'ticket': False, 'one': False, 'jacket': False, 'multi': False, 'start': False, 'came': False, 'bed': False, 'coin': False, 'factori': False, 'nitro': False, 'ela': False, 'kano': False, 'il': False, 'download': False, 'wen': False, 'stand': False, 'close': False, 'anoth': False, 'night': False, 'spent': False, 'late': False, 'afternoon': False, 'casualti': False, 'mean': False, 'stuffnumbrmoro': False, 'includ': False, 'sheet': False, 'smile': False, 'pleasur': False, 'troubl': False, 'pour': False, 'rain': False, 'sumnumbr': False, 'hurt': False, 'becoz': False, 'someon': False, 'servic': False, 'repres': False, 'guarante': False, 'havent': False, 'plan': False, 'buy': False, 'lido': False, 'show': False, 'collect': False, 'simpli': False, 'password': False, 'mix': False, 'verifi': False, 'usher': False, 'britney': False, 'fml': False, 'po': False, 'box': False, 'mknumbr': False, 'numbrh': False, 'numbrppw': False, 'telugu': False, 'movi': False, 'abt': False, 'load': False, 'loan': False, 'wk': False, 'hol': False, 'forgot': False, 'hairdress': False, 'appoint': False, 'four': False, 'shower': False, 'beforehand': False, 'caus': False, 'prob': False, 'coffe': False, 'anim': False, 'noth': False, 'els': False, 'okay': False, 'price': False, 'long': False, 'legal': False, 'ave': False, 'am': False, 'gone': False, 'numbrth': False, 'drive': False, 'test': False, 'yet': False, 'guess': False, 'gave': False, 'boston': False, 'men': False, 'chang': False, 'locat': False, 'nyc': False, 'cuz': False, 'signin': False, 'page': False, 'umma': False, 'life': False, 'vava': False, 'lot': False, 'dear': False, 'wish': False, 'birthday': False, 'truli': False, 'memor': False, 'aight': False, 'hit': False, 'would': False, 'ip': False, 'address': False, 'consid': False, 'comput': False, 'minecraft': False, 'server': False, 'grumpi': False, 'old': False, 'better': False, 'lie': False, 'busi': False, 'plural': False, 'noun': False, 'research': False, 'thing': False, 'scare': False, 'mah': False, 'loud': False, 'gent': False, 'contact': False, 'last': False, 'draw': False, 'knumbr': False, 'numbrhr': False, 'numbrppm': False, 'wa': False, 'openin': False, 'sentenc': False, 'formal': False, 'anyway': False, 'juz': False, 'tt': False, 'eatin': False, 'puttin': False, 'weight': False, 'haha': False, 'anythin': False, 'happen': False, 'enter': False, 'cabin': False, 'boss': False, 'felt': False, 'askd': False, 'apart': False, 'went': False, 'holiday': False, 'flight': False, 'inc': False, 'min': False, 'goodo': False, 'must': False, 'friday': False, 'potato': False, 'ratio': False, 'tortilla': False, 'hmm': False, 'uncl': False, 'inform': False, 'school': False, 'directli': False, 'food': False, 'privat': False, 'account': False, 'statement': False, 'unredeem': False, 'identifi': False, 'expir': False, 'landlin': False, 'boxnumbrwrnumbrc': False, 'appl': False, 'pair': False, 'malarki': False, 'voda': False, 'number': False, 'match': False, 'quot': False, 'standard': False, 'app': False, 'sao': False, 'mu': False, 'predict': False, 'yetund': False, 'sent': False, 'bother': False, 'involv': False, 'impos': False, 'apologis': False, 'del': False, 'bak': False, 'sum': False, 'lucyxx': False, 'tmorrow': False, 'answer': False, 'sunshin': False, 'quiz': False, 'q': False, 'top': False, 'soni': False, 'dvd': False, 'player': False, 'countri': False, 'algarv': False, 'ansr': False, 'sp': False, 'tyron': False, 'laid': False, 'dog': False, 'direct': False, 'join': False, 'largest': False, 'bt': False, 'txting': False, 'gravel': False, 'nt': False, 'ecnumbra': False, 'emailaddress': False, 'befor': False, 'activ': False, 'chat': False, 'svc': False, 'hardcor': False, 'age': False, 'yr': False, 'lazi': False, 'type': False, 'lect': False, 'pouch': False, 'sir': False, 'mail': False, 'swt': False, 'nver': False, 'tire': False, 'littl': False, 'lovabl': False, 'person': False, 'coz': False, 'somtim': False, 'occupi': False, 'biggest': False, 'heart': False, 'gud': False, 'ninumbr': False, 'open': False, 'ya': False, 'dot': False, 'what': False, 'staff': False, 'randi': False, 'sexi': False, 'femal': False, 'local': False, 'luv': False, 'netcollex': False, 'ltd': False, 'ummma': False, 'begin': False, 'qatar': False, 'pray': False, 'hard': False, 'delet': False, 'sindu': False, 'birla': False, 'soft': False, 'wine': False, 'flow': False, 'thk': False, 'plaza': False, 'typic': False, 'everywher': False, 'dirt': False, 'floor': False, 'window': False, 'shirt': False, 'sometim': False, 'mouth': False, 'dream': False, 'without': False, 'chore': False, 'joy': False, 'tv': False, 'exist': False, 'hail': False, 'mist': False, 'becom': False, 'aaooooright': False, 'leav': False, 'hous': False, 'interview': False, 'boy': False, 'annonc': False, 'arrang': False, 'keep': False, 'safe': False, 'envi': False, 'everyon': False, 'parent': False, 'hand': False, 'excit': False, 'spend': False, 'bootydeli': False, 'f': False, 'bangbab': False, 'order': False, 'content': False, 'goto': False, 'bangb': False, 'internet': False, 'menu': False, 'cultur': False, 'modul': False, 'snumbr': False, 'avoid': False, 'missunderstd': False, 'wit': False, 'belov': False, 'escap': False, 'fanci': False, 'bridg': False, 'lager': False, 'complet': False, 'form': False, 'clark': False, 'also': False, 'utter': False, 'wast': False, 'axi': False, 'bank': False, 'hmmm': False, 'hop': False, 'muz': False, 'discuss': False, 'liao': False, 'bloodi': False, 'hell': False, 'cant': False, 'believ': False, 'surnam': False, 'mr': False, 'ill': False, 'clue': False, 'spanish': False, 'bath': False, 'carlo': False, 'mall': False, 'stay': False, 'til': False, 'smoke': False, 'moneysymb': False, 'worth': False, 'doesnt': False, 'log': False, 'spoke': False, 'maneesha': False, 'satisfi': False, 'experi': False, 'toll': False, 'lift': False, 'especi': False, 'approach': False, 'studi': False, 'grnumbr': False, 'trust': False, 'guy': False, 'bye': False, 'handsom': False, 'toward': False, 'mummi': False, 'boytoy': False, 'awesom': False, 'minut': False, 'freephon': False, 'xma': False, 'radio': False, 'ju': False, 'si': False, 'uniqu': False, 'august': False, 'areyouuniqu': False, 'leagu': False, 'touch': False, 'deal': False, 'cours': False, 'howev': False, 'suggest': False, 'abl': False, 'or': False, 'everi': False, 'stool': False, 'settl': False, 'wishin': False, 'mrng': False, 'hav': False, 'stori': False, 'hamster': False, 'dead': False, 'tmr': False, 'orchard': False, 'mrt': False, 'kate': False, 'babyjontet': False, 'found': False, 'enc': False, 'buck': False, 'darlin': False, 'ive': False, 'colleg': False, 'refil': False, 'success': False, 'inr': False, 'decim': False, 'keralacircl': False, 'prepaid': False, 'balanc': False, 'rs': False, 'transact': False, 'id': False, 'kr': False, 'goodmorn': False, 'sleep': False, 'ga': False, 'alter': False, 'dat': False, 'ericsson': False, 'oso': False, 'can': False, 'not': False, 'oredi': False, 'straight': False, 'dogg': False, 'connect': False, 'refund': False, 'bill': False, 'shoot': False, 'big': False, 'readi': False, 'bruv': False, 'break': False, 'semest': False, 'noe': False, 'leh': False, 'sound': False, 'head': False, 'slept': False, 'past': False, 'easi': False, 'sen': False, 'exam': False, 'march': False, 'atm': False, 'regist': False, 'os': False, 'ubandu': False, 'instal': False, 'disk': False, 'import': False, 'file': False, 'system': False, 'repair': False, 'shop': False, 'romant': False, 'nite': False, 'sceneri': False, 'tc': False, 'biz': False, 'numbroptout': False, 'numbrgbp': False, 'mtmsgnumbr': False, 'appreci': False, 'partner': False, 'career': False, 'flyng': False, 'horo': False, 'star': False, 'sign': False, 'g': False, 'ari': False, 'compani': False, 'elama': False, 'mudyadhu': False, 'strict': False, 'teacher': False, 'bcoz': False, 'teach': False, 'conduct': False, 'gandhipuram': False, 'walk': False, 'cross': False, 'road': False, 'side': False, 'street': False, 'rubber': False, 'batteri': False, 'die': False, 'flirt': False, 'sam': False, 'recd': False, 'thirtyeight': False, 'penc': False, 'print': False, 'upstair': False, 'closer': False, 'wil': False, 'theori': False, 'argument': False, 'lose': False, 'argu': False, 'kick': False, 'secret': False, 'admir': False, 'reveal': False, 'tomarrow': False, 'laptop': False, 'case': False, 'pleassssssseeeee': False, 'tel': False, 'avent': False, 'sportsx': False, 'shine': False, 'meant': False, 'although': False, 'told': False, 'baig': False, 'face': False, 'fr': False, 'thanx': False, 'everyth': False, 'commerci': False, 'websit': False, 'slipper': False, 'kalli': False, 'bat': False, 'inning': False, 'didnt': False, 'goodnight': False, 'fix': False, 'wake': False, 'dearli': False, 'congratul': False, 'cd': False, 'voucher': False, 'numbrgift': False, 'music': False, 'tnc': False, 'ldew': False, 'comnumbrwinnumbrppmxnumbragenumbr': False, 'ranjith': False, 'cal': False, 'drpd': False, 'deeraj': False, 'deepak': False, 'numbrmin': False, 'hold': False, 'bcum': False, 'angri': False, 'wid': False, 'dnt': False, 'childish': False, 'true': False, 'deep': False, 'affect': False, 'care': False, 'kettoda': False, 'manda': False, 'up': False, 'ship': False, 'numbrwk': False, 'usp': False, 'lag': False, 'bribe': False, 'nipost': False, 'lemm': False, 'necessarili': False, 'expect': False, 'headin': False, 'mmm': False, 'jolt': False, 'suzi': False, 'lover': False, 'video': False, 'handset': False, 'anytim': False, 'unlimit': False, 'park': False, 'mini': False, 'disturb': False, 'luton': False, 'ring': False, 'h': False, 'horni': False, 'nake': False, 'hot': False, 'unsubscrib': False, 'dint': False, 'wana': False, 'sometm': False, 'clubnumbrmobil': False, 'choos': False, 'club': False, 'clubnumbr': False, 'boxnumbr': False, 'numbrwt': False, 'evo': False, 'flash': False, 'jealou': False, 'singl': False, 'chart': False, 'qualiti': False, 'sort': False, 'narcot': False, 'sunni': False, 'ray': False, 'blue': False, 'bay': False, 'hmv': False, 'genuin': False, 'numbrperc': False, 'might': False, 'object': False, 'bf': False, 'rob': False, 'mack': False, 'gf': False, 'theater': False, 'celebr': False, 'full': False, 'swing': False, 'tool': False, 'definit': False, 'gdeve': False, 'far': False, 'oki': False, 'ahold': False, 'anybodi': False, 'throw': False, 'babi': False, 'cruisin': False, 'fone': False, 'jenni': False, 'ge': False, 'shall': False, 'tonit': False, 'varunnathu': False, 'edukkukaye': False, 'raksha': False, 'ollu': False, 'sens': False, 'gautham': False, 'haf': False, 'stupid': False, 'cam': False, 'buzi': False, 'accident': False, 'resend': False, 'phone': False, 'upgrad': False, 'sim': False, 'card': False, 'loyalti': False, 'numbrthfeb': False, 'unless': False, 'gurl': False, 'appropri': False, 'teas': False, 'plz': False, 'rose': False, 'grave': False, 'bslvyl': False, 'somebodi': False, 'high': False, 'diesel': False, 'shit': False, 'shock': False, 'scari': False, 'imagin': False, 'def': False, 'somewher': False, 'taxi': False, 'fridg': False, 'meal': False, 'womdarful': False, 'actor': False, 'blind': False, 'numbru': False, 'roddsnumbr': False, 'aberdeen': False, 'unit': False, 'kingdom': False, 'img': False, 'w': False, 'icmbnumbrcktznumbrrnumbr': False, 'hide': False, 'remb': False, 'book': False, 'jo': False, 'friendship': False, 'hang': False, 'thread': False, 'themob': False, 'newest': False, 'game': False, 'tone': False, 'gossip': False, 'sport': False, 'fit': False, 'funki': False, 'garag': False, 'key': False, 'bookshelf': False, 'accept': False, 'sister': False, 'dearnumbr': False, 'bestnumbr': False, 'closnumbr': False, 'lvblefrnd': False, 'jstfrnd': False, 'cutefrnd': False, 'lifpartnr': False, 'belovd': False, 'swtheart': False, 'bstfrnd': False, 'enemi': False, 'smart': False, 'weekli': False, 'cs': False, 'winnersclub': False, 'mnumbr': False, 'numbruz': False, 'gbpnumbr': False, 'normal': False, 'rest': False, 'mylif': False, 'wot': False, 'lost': False, 'made': False, 'advanc': False, 'pongal': False, 'kb': False, 'power': False, 'yoga': False, 'dunno': False, 'tahan': False, 'anot': False, 'lo': False, 'dude': False, 'afraid': False, 'decemb': False, 'numbrmth': False, 'cake': False, 'merri': False, 'christma': False, 'kiss': False, 'cud': False, 'ppl': False, 'gona': False, 'lnumbr': False, 'buse': False, 'waitin': False, 'pete': False, 'guild': False, 'bristol': False, 'problem': False, 'track': False, 'record': False, 'read': False, 'women': False, 'light': False, 'apo': False, 'return': False, 'immedi': False, 'germani': False, 'line': False, 'via': False, 'access': False, 'prepay': False, 'evapor': False, 'violat': False, 'privaci': False, 'steal': False, 'employ': False, 'paperwork': False, 'report': False, 'supervisor': False, 'valentin': False, 'lifetim': False, 'rcvd': False, 'custcar': False, 'daaaaa': False, 'dine': False, 'surf': False, 'post': False, 'wiv': False, 'carolin': False, 'favourit': False, 'stranger': False, 'interest': False, 'two': False, 'round': False, 'gudnit': False, 'practic': False, 'yiju': False, 'huim': False, 'num': False, 'small': False, 'prestig': False, 'shag': False, 'sextextuk': False, 'xxuk': False, 'jeremiah': False, 'iphon': False, 'apeshit': False, 'ever': False, 'misbehav': False, 'slap': False, 'urself': False, 'fault': False, 'basic': False, 'figur': False, 'alcohol': False, 'jay': False, 'weed': False, 'ish': False, 'ago': False, 'wtf': False, 'onam': False, 'sirji': False, 'met': False, 'insur': False, 'insha': False, 'allah': False, 'rakhesh': False, 'ex': False, 'tata': False, 'aig': False, 'tissco': False, 'tayseer': False, 'current': False, 'maxim': False, 'cc': False, 'hg': False, 'suitenumbr': False, 'numbrland': False, 'row': False, 'wnumbrjnumbrhl': False, 'unemploy': False, 'moment': False, 'st': False, 'andrew': False, 'cold': False, 'chikku': False, 'db': False, 'audrey': False, 'statu': False, 'forward': False, 'dawn': False, 'refresh': False, 'aliv': False, 'breath': False, 'air': False, 'z': False, 'update_now': False, 'motorola': False, 'sonyericsson': False, 'bluetooth': False, 'orang': False, 'mobileupdnumbr': False, 'callnumbroptout': False, 'fnumbrq': False, 'discount': False, 'rpnumbr': False, 'regalportfolio': False, 'uniform': False, 'geeee': False, 'woke': False, 'cuddl': False, 'spoil': False, 'agre': False, 'will': False, 'refer': False, 'tnumbr': False, 'gbp': False, 'seen': False, 'recognis': False, 'lindsay': False, 'sigh': False, 'bar': False, 'ptbo': False, 'heron': False, 'payasam': False, 'rinu': False, 'bring': False, 'taught': False, 'becau': False, 'he': False, 'project': False, 'prabu': False, 'mistak': False, 'bodi': False, 'quit': False, 'slow': False, 'guid': False, 'ovul': False, 'relax': False, 'reason': False, 'followin': False, 'coupl': False, 'wallet': False, 'numbrmonth': False, 'nnumbrdx': False, 'owl': False, 'lick': False, 'mm': False, 'rental': False, 'mobilesdirect': False, 'ornumbrstoptxt': False, 'huh': False, 'sat': False, 'intro': False, 'pilat': False, 'kickbox': False, 'offic': False, 'lap': False, 'shut': False, 'bout': False, 'numbrish': False, 'calcul': False, 'period': False, 'actual': False, 'rock': False, 'put': False, 'pictur': False, 'ass': False, 'facebook': False, 'al': False, 'salam': False, 'wahleykkum': False, 'share': False, 'grace': False, 'god': False, 'inshah': False, 'visitor': False, 'india': False, 'field': False, 'quickli': False, 'administr': False, 'poli': False, 'numbrxmoneysymbnumbrpw': False, 'emoneysymbnd': False, 'chechi': False, 'cream': False, 'none': False, 'yep': False, 'loxahatche': False, 'tree': False, 'stoner': False, 'slightli': False, 'disastr': False, 'pm': False, 'fav': False, 'wld': False, 'drink': False, 'busetop': False, 'sender': False, 'fullonsm': False, 'iron': False, 'yan': False, 'jiu': False, 'skip': False, 'den': False, 'blah': False, 'wendi': False, 'l': False, 'boxnumbrsknumbrch': False, 'whatsup': False, 'competit': False, 'txttowin': False, 'logo': False, 'namenumbr': False, 'mobno': False, 'adam': False, 'eve': False, 'yahoo': False, 'poboxnumbrwnumbrwq': False, 'txtno': False, 'ad': False, 'poboxnumbrnnumbrtfnumbrp': False, 'siva': False, 'hostel': False, 'aha': False, 'land': False, 'voic': False, 'express': False, 'sentiment': False, 'rowdi': False, 'ful': False, 'attitud': False}, 0)\n"
          ]
        }
      ]
    },
    {
      "cell_type": "code",
      "source": [
        "#Classify any given input\n",
        "\n",
        "print(model1.classify(({'lotteri': True, 'eleven': True, 'crore': True, 'get': True, 'money': True, 'click': True, 'link': True, 'http': True, 'www': True, 'googl': True, 'com': True, 'search': True, 'q': True, 'exampl': True, 'spam': True, 'messag': True, 'go': False, 'jurong': False, 'point': False, 'crazi': False, 'avail': False, 'bugi': False, 'n': False, 'great': False, 'world': False, 'la': False, 'e': False, 'buffet': False, 'cine': False, 'got': False, 'amor': False, 'wat': False, 'ok': False, 'lar': False, 'joke': False, 'wif': False, 'u': False, 'oni': False, 'free': False, 'entri': False, 'numbr': False, 'wkli': False, 'comp': False, 'win': False, 'fa': False, 'cup': False, 'final': False, 'tkt': False, 'numbrst': False, 'may': False, 'text': False, 'receiv': False, 'question': False, 'std': False, 'txt': False, 'rate': False, 'c': False, 'appli': False, 'numbrovernumbr': False, 'dun': False, 'say': False, 'earli': False, 'hor': False, 'alreadi': False, 'nah': False, 'think': False, 'goe': False, 'usf': False, 'live': False, 'around': False, 'though': False, 'freemsg': False, 'hey': False, 'darl': False, 'week': False, 'word': False, 'back': False, 'like': False, 'fun': False, 'still': False, 'tb': False, 'xxx': False, 'chg': False, 'send': False, 'moneysymbnumbr': False, 'rcv': False, 'even': False, 'brother': False, 'speak': False, 'treat': False, 'aid': False, 'patent': False, 'per': False, 'request': False, 'mell': False, 'oru': False, 'minnaminungint': False, 'nurungu': False, 'vettam': False, 'set': False, 'callertun': False, 'caller': False, 'press': False, 'copi': False, 'friend': False, 'winner': False, 'valu': False, 'network': False, 'custom': False, 'select': False, 'receivea': False, 'prize': False, 'reward': False, 'claim': False, 'call': False, 'code': False, 'klnumbr': False, 'valid': False, 'hour': False, 'mobil': False, 'month': False, 'r': False, 'entitl': False, 'updat': False, 'latest': False, 'colour': False, 'camera': False, 'co': False, 'gon': False, 'na': False, 'home': False, 'soon': False, 'want': False, 'talk': False, 'stuff': False, 'anymor': False, 'tonight': False, 'k': False, 'cri': False, 'enough': False, 'today': False, 'six': False, 'chanc': False, 'cash': False, 'pound': False, 'cshnumbr': False, 'cost': False, 'numbrp': False, 'day': False, 'numbrday': False, 'tsandc': False, 'repli': False, 'hl': False, 'info': False, 'urgent': False, 'membership': False, 'jackpot': False, 'dbuk': False, 'net': False, 'lccltd': False, 'pobox': False, 'numbrldnwnumbranumbrrwnumbr': False, 'right': False, 'thank': False, 'breather': False, 'promis': False, 'wont': False, 'take': False, 'help': False, 'grant': False, 'fulfil': False, 'wonder': False, 'bless': False, 'time': False, 'date': False, 'sunday': False, 'xxxmobilemovieclub': False, 'use': False, 'credit': False, 'wap': False, 'next': False, 'qjkgighjjgcbl': False, 'oh': False, 'watch': False, 'eh': False, 'rememb': False, 'spell': False, 'name': False, 'ye': False, 'v': False, 'naughti': False, 'make': False, 'wet': False, 'fine': False, 'way': False, 'feel': False, 'gota': False, 'b': False, 'england': False, 'macedonia': False, 'dont': False, 'miss': False, 'goal': False, 'team': False, 'news': False, 'ur': False, 'nation': False, 'eg': False, 'tri': False, 'wale': False, 'scotland': False, 'numbrtxt': False, 'únumbr': False, 'poboxoxnumbrwnumbrwq': False, 'serious': False, 'ha': False, 'ü': False, 'pay': False, 'first': False, 'da': False, 'stock': False, 'comin': False, 'aft': False, 'finish': False, 'lunch': False, 'str': False, 'lor': False, 'ard': False, 'smth': False, 'ffffffffff': False, 'alright': False, 'meet': False, 'sooner': False, 'forc': False, 'eat': False, 'slice': False, 'realli': False, 'hungri': False, 'tho': False, 'suck': False, 'mark': False, 'worri': False, 'know': False, 'sick': False, 'turn': False, 'pizza': False, 'lol': False, 'alway': False, 'convinc': False, 'catch': False, 'bu': False, 'fri': False, 'egg': False, 'tea': False, 'mom': False, 'left': False, 'dinner': False, 'love': False, 'amp': False, 'pack': False, 'car': False, 'let': False, 'room': False, 'ahhh': False, 'work': False, 'vagu': False, 'wait': False, 'clear': False, 'sure': False, 'sarcast': False, 'x': False, 'us': False, 'yeah': False, 'apologet': False, 'fallen': False, 'actin': False, 'spoilt': False, 'child': False, 'caught': False, 'till': False, 'badli': False, 'cheer': False, 'tell': False, 'anyth': False, 'fear': False, 'faint': False, 'housework': False, 'quick': False, 'cuppa': False, 'subscript': False, 'rington': False, 'uk': False, 'charg': False, 'pleas': False, 'confirm': False, 'yup': False, 'look': False, 'msg': False, 'xuhui': False, 'learn': False, 'numbrnd': False, 'lesson': False, 'numbram': False, 'oop': False, 'roommat': False, 'done': False, 'see': False, 'letter': False, 'decid': False, 'hello': False, 'saturday': False, 'tomo': False, 'invit': False, 'pl': False, 'ahead': False, 'watt': False, 'weekend': False, 'abiola': False, 'forget': False, 'need': False, 'crave': False, 'sweet': False, 'arabian': False, 'steed': False, 'mmmmmm': False, 'yummi': False, 'rodger': False, 'burn': False, 'sm': False, 'nokia': False, 'camcord': False, 'deliveri': False, 'tomorrow': False, 'hope': False, 'man': False, 'well': False, 'endow': False, 'lt': False, 'gt': False, 'inch': False, 'hep': False, 'immunis': False, 'nigeria': False, 'fair': False, 'tyler': False, 'could': False, 'mayb': False, 'ask': False, 'bit': False, 'stubborn': False, 'hospit': False, 'kept': False, 'weak': False, 'sucker': False, 'saw': False, 'class': False, 'gram': False, 'usual': False, 'run': False, 'half': False, 'eighth': False, 'smarter': False, 'almost': False, 'whole': False, 'second': False, 'fyi': False, 'ride': False, 'morn': False, 'crash': False, 'place': False, 'wow': False, 'never': False, 'realiz': False, 'embarass': False, 'accomod': False, 'thought': False, 'sinc': False, 'best': False, 'seem': False, 'happi': False, 'cave': False, 'sorri': False, 'give': False, 'offer': False, 'ac': False, 'sptv': False, 'new': False, 'jersey': False, 'devil': False, 'detroit': False, 'red': False, 'wing': False, 'play': False, 'ice': False, 'hockey': False, 'correct': False, 'incorrect': False, 'end': False, 'mallika': False, 'sherawat': False, 'yesterday': False, 'find': False, 'url': False, 'congrat': False, 'year': False, 'special': False, 'cinema': False, 'pass': False, 'suprman': False, 'matrixnumbr': False, 'starwarsnumbr': False, 'etc': False, 'bxnumbr': False, 'ipnumbr': False, 'numbrw': False, 'numbrpm': False, 'later': False, 'reach': False, 'gauti': False, 'sehwag': False, 'odi': False, 'seri': False, 'pick': False, 'burger': False, 'move': False, 'pain': False, 'kill': False, 'good': False, 'girl': False, 'situat': False, 'seeker': False, 'part': False, 'check': False, 'iq': False, 'took': False, 'forev': False, 'come': False, 'doubl': False, 'hair': False, 'dresser': False, 'said': False, 'wun': False, 'cut': False, 'short': False, 'nice': False, 'advis': False, 'follow': False, 'recent': False, 'review': False, 'mob': False, 'award': False, 'bonu': False, 'song': False, 'dedic': False, 'valuabl': False, 'frnd': False, 'rpli': False, 'complimentari': False, 'trip': False, 'eurodisinc': False, 'trav': False, 'aco': False, 'entrynumbr': False, 'di': False, 'morefrmmob': False, 'shracomorsglsuplt': False, 'lsnumbr': False, 'numbraj': False, 'hear': False, 'divorc': False, 'barbi': False, 'ken': False, 'plane': False, 'wah': False, 'lucki': False, 'save': False, 'hee': False, 'hi': False, 'babe': False, 'im': False, 'wan': False, 'someth': False, 'xx': False, 'perform': False, 'machan': False, 'that': False, 'cool': False, 'gentleman': False, 'digniti': False, 'respect': False, 'peopl': False, 'much': False, 'shi': False, 'pa': False, 'oper': False, 'job': False, 'ta': False, 'earn': False, 'ah': False, 'stop': False, 'urgnt': False, 'real': False, 'yo': False, 'ticket': False, 'one': False, 'jacket': False, 'multi': False, 'start': False, 'came': False, 'bed': False, 'coin': False, 'factori': False, 'nitro': False, 'ela': False, 'kano': False, 'il': False, 'download': False, 'wen': False, 'stand': False, 'close': False, 'anoth': False, 'night': False, 'spent': False, 'late': False, 'afternoon': False, 'casualti': False, 'mean': False, 'stuffnumbrmoro': False, 'includ': False, 'sheet': False, 'smile': False, 'pleasur': False, 'troubl': False, 'pour': False, 'rain': False, 'sumnumbr': False, 'hurt': False, 'becoz': False, 'someon': False, 'servic': False, 'repres': False, 'guarante': False, 'havent': False, 'plan': False, 'buy': False, 'lido': False, 'show': False, 'collect': False, 'simpli': False, 'password': False, 'mix': False, 'verifi': False, 'usher': False, 'britney': False, 'fml': False, 'po': False, 'box': False, 'mknumbr': False, 'numbrh': False, 'numbrppw': False, 'telugu': False, 'movi': False, 'abt': False, 'load': False, 'loan': False, 'wk': False, 'hol': False, 'forgot': False, 'hairdress': False, 'appoint': False, 'four': False, 'shower': False, 'beforehand': False, 'caus': False, 'prob': False, 'coffe': False, 'anim': False, 'noth': False, 'els': False, 'okay': False, 'price': False, 'long': False, 'legal': False, 'ave': False, 'am': False, 'gone': False, 'numbrth': False, 'drive': False, 'test': False, 'yet': False, 'guess': False, 'gave': False, 'boston': False, 'men': False, 'chang': False, 'locat': False, 'nyc': False, 'cuz': False, 'signin': False, 'page': False, 'umma': False, 'life': False, 'vava': False, 'lot': False, 'dear': False, 'wish': False, 'birthday': False, 'truli': False, 'memor': False, 'aight': False, 'hit': False, 'would': False, 'ip': False, 'address': False, 'consid': False, 'comput': False, 'minecraft': False, 'server': False, 'grumpi': False, 'old': False, 'better': False, 'lie': False, 'busi': False, 'plural': False, 'noun': False, 'research': False, 'thing': False, 'scare': False, 'mah': False, 'loud': False, 'gent': False, 'contact': False, 'last': False, 'draw': False, 'knumbr': False, 'numbrhr': False, 'numbrppm': False, 'wa': False, 'openin': False, 'sentenc': False, 'formal': False, 'anyway': False, 'juz': False, 'tt': False, 'eatin': False, 'puttin': False, 'weight': False, 'haha': False, 'anythin': False, 'happen': False, 'enter': False, 'cabin': False, 'boss': False, 'felt': False, 'askd': False, 'apart': False, 'went': False, 'holiday': False, 'flight': False, 'inc': False, 'min': False, 'goodo': False, 'must': False, 'friday': False, 'potato': False, 'ratio': False, 'tortilla': False, 'hmm': False, 'uncl': False, 'inform': False, 'school': False, 'directli': False, 'food': False, 'privat': False, 'account': False, 'statement': False, 'unredeem': False, 'identifi': False, 'expir': False, 'landlin': False, 'boxnumbrwrnumbrc': False, 'appl': False, 'pair': False, 'malarki': False, 'voda': False, 'number': False, 'match': False, 'quot': False, 'standard': False, 'app': False, 'sao': False, 'mu': False, 'predict': False, 'yetund': False, 'sent': False, 'bother': False, 'involv': False, 'impos': False, 'apologis': False, 'del': False, 'bak': False, 'sum': False, 'lucyxx': False, 'tmorrow': False, 'answer': False, 'sunshin': False, 'quiz': False, 'top': False, 'soni': False, 'dvd': False, 'player': False, 'countri': False, 'algarv': False, 'ansr': False, 'sp': False, 'tyron': False, 'laid': False, 'dog': False, 'direct': False, 'join': False, 'largest': False, 'bt': False, 'txting': False, 'gravel': False, 'nt': False, 'ecnumbra': False, 'emailaddress': False, 'befor': False, 'activ': False, 'chat': False, 'svc': False, 'hardcor': False, 'age': False, 'yr': False, 'lazi': False, 'type': False, 'lect': False, 'pouch': False, 'sir': False, 'mail': False, 'swt': False, 'nver': False, 'tire': False, 'littl': False, 'lovabl': False, 'person': False, 'coz': False, 'somtim': False, 'occupi': False, 'biggest': False, 'heart': False, 'gud': False, 'ninumbr': False, 'open': False, 'ya': False, 'dot': False, 'what': False, 'staff': False, 'randi': False, 'sexi': False, 'femal': False, 'local': False, 'luv': False, 'netcollex': False, 'ltd': False, 'ummma': False, 'begin': False, 'qatar': False, 'pray': False, 'hard': False, 'delet': False, 'sindu': False, 'birla': False, 'soft': False, 'wine': False, 'flow': False, 'thk': False, 'plaza': False, 'typic': False, 'everywher': False, 'dirt': False, 'floor': False, 'window': False, 'shirt': False, 'sometim': False, 'mouth': False, 'dream': False, 'without': False, 'chore': False, 'joy': False, 'tv': False, 'exist': False, 'hail': False, 'mist': False, 'becom': False, 'aaooooright': False, 'leav': False, 'hous': False, 'interview': False, 'boy': False, 'annonc': False, 'arrang': False, 'keep': False, 'safe': False, 'envi': False, 'everyon': False, 'parent': False, 'hand': False, 'excit': False, 'spend': False, 'bootydeli': False, 'f': False, 'bangbab': False, 'order': False, 'content': False, 'goto': False, 'bangb': False, 'internet': False, 'menu': False, 'cultur': False, 'modul': False, 'snumbr': False, 'avoid': False, 'missunderstd': False, 'wit': False, 'belov': False, 'escap': False, 'fanci': False, 'bridg': False, 'lager': False, 'complet': False, 'form': False, 'clark': False, 'also': False, 'utter': False, 'wast': False, 'axi': False, 'bank': False, 'hmmm': False, 'hop': False, 'muz': False, 'discuss': False, 'liao': False, 'bloodi': False, 'hell': False, 'cant': False, 'believ': False, 'surnam': False, 'mr': False, 'ill': False, 'clue': False, 'spanish': False, 'bath': False, 'carlo': False, 'mall': False, 'stay': False, 'til': False, 'smoke': False, 'moneysymb': False, 'worth': False, 'doesnt': False, 'log': False, 'spoke': False, 'maneesha': False, 'satisfi': False, 'experi': False, 'toll': False, 'lift': False, 'especi': False, 'approach': False, 'studi': False, 'grnumbr': False, 'trust': False, 'guy': False, 'bye': False, 'handsom': False, 'toward': False, 'mummi': False, 'boytoy': False, 'awesom': False, 'minut': False, 'freephon': False, 'xma': False, 'radio': False, 'ju': False, 'si': False, 'uniqu': False, 'august': False, 'areyouuniqu': False, 'leagu': False, 'touch': False, 'deal': False, 'cours': False, 'howev': False, 'suggest': False, 'abl': False, 'or': False, 'everi': False, 'stool': False, 'settl': False, 'wishin': False, 'mrng': False, 'hav': False, 'stori': False, 'hamster': False, 'dead': False, 'tmr': False, 'orchard': False, 'mrt': False, 'kate': False, 'babyjontet': False, 'found': False, 'enc': False, 'buck': False, 'darlin': False, 'ive': False, 'colleg': False, 'refil': False, 'success': False, 'inr': False, 'decim': False, 'keralacircl': False, 'prepaid': False, 'balanc': False, 'rs': False, 'transact': False, 'id': False, 'kr': False, 'goodmorn': False, 'sleep': False, 'ga': False, 'alter': False, 'dat': False, 'ericsson': False, 'oso': False, 'can': False, 'not': False, 'oredi': False, 'straight': False, 'dogg': False, 'connect': False, 'refund': False, 'bill': False, 'shoot': False, 'big': False, 'readi': False, 'bruv': False, 'break': False, 'semest': False, 'noe': False, 'leh': False, 'sound': False, 'head': False, 'slept': False, 'past': False, 'easi': False, 'sen': False, 'exam': False, 'march': False, 'atm': False, 'regist': False, 'os': False, 'ubandu': False, 'instal': False, 'disk': False, 'import': False, 'file': False, 'system': False, 'repair': False, 'shop': False, 'romant': False, 'nite': False, 'sceneri': False, 'tc': False, 'biz': False, 'numbroptout': False, 'numbrgbp': False, 'mtmsgnumbr': False, 'appreci': False, 'partner': False, 'career': False, 'flyng': False, 'horo': False, 'star': False, 'sign': False, 'g': False, 'ari': False, 'compani': False, 'elama': False, 'mudyadhu': False, 'strict': False, 'teacher': False, 'bcoz': False, 'teach': False, 'conduct': False, 'gandhipuram': False, 'walk': False, 'cross': False, 'road': False, 'side': False, 'street': False, 'rubber': False, 'batteri': False, 'die': False, 'flirt': False, 'sam': False, 'recd': False, 'thirtyeight': False, 'penc': False, 'print': False, 'upstair': False, 'closer': False, 'wil': False, 'theori': False, 'argument': False, 'lose': False, 'argu': False, 'kick': False, 'secret': False, 'admir': False, 'reveal': False, 'tomarrow': False, 'laptop': False, 'case': False, 'pleassssssseeeee': False, 'tel': False, 'avent': False, 'sportsx': False, 'shine': False, 'meant': False, 'although': False, 'told': False, 'baig': False, 'face': False, 'fr': False, 'thanx': False, 'everyth': False, 'commerci': False, 'websit': False, 'slipper': False, 'kalli': False, 'bat': False, 'inning': False, 'didnt': False, 'goodnight': False, 'fix': False, 'wake': False, 'dearli': False, 'congratul': False, 'cd': False, 'voucher': False, 'numbrgift': False, 'music': False, 'tnc': False, 'ldew': False, 'comnumbrwinnumbrppmxnumbragenumbr': False, 'ranjith': False, 'cal': False, 'drpd': False, 'deeraj': False, 'deepak': False, 'numbrmin': False, 'hold': False, 'bcum': False, 'angri': False, 'wid': False, 'dnt': False, 'childish': False, 'true': False, 'deep': False, 'affect': False, 'care': False, 'kettoda': False, 'manda': False, 'up': False, 'ship': False, 'numbrwk': False, 'usp': False, 'lag': False, 'bribe': False, 'nipost': False, 'lemm': False, 'necessarili': False, 'expect': False, 'headin': False, 'mmm': False, 'jolt': False, 'suzi': False, 'lover': False, 'video': False, 'handset': False, 'anytim': False, 'unlimit': False, 'park': False, 'mini': False, 'disturb': False, 'luton': False, 'ring': False, 'h': False, 'horni': False, 'nake': False, 'hot': False, 'unsubscrib': False, 'dint': False, 'wana': False, 'sometm': False, 'clubnumbrmobil': False, 'choos': False, 'club': False, 'clubnumbr': False, 'boxnumbr': False, 'numbrwt': False, 'evo': False, 'flash': False, 'jealou': False, 'singl': False, 'chart': False, 'qualiti': False, 'sort': False, 'narcot': False, 'sunni': False, 'ray': False, 'blue': False, 'bay': False, 'hmv': False, 'genuin': False, 'numbrperc': False, 'might': False, 'object': False, 'bf': False, 'rob': False, 'mack': False, 'gf': False, 'theater': False, 'celebr': False, 'full': False, 'swing': False, 'tool': False, 'definit': False, 'gdeve': False, 'far': False, 'oki': False, 'ahold': False, 'anybodi': False, 'throw': False, 'babi': False, 'cruisin': False, 'fone': False, 'jenni': False, 'ge': False, 'shall': False, 'tonit': False, 'varunnathu': False, 'edukkukaye': False, 'raksha': False, 'ollu': False, 'sens': False, 'gautham': False, 'haf': False, 'stupid': False, 'cam': False, 'buzi': False, 'accident': False, 'resend': False, 'phone': False, 'upgrad': False, 'sim': False, 'card': False, 'loyalti': False, 'numbrthfeb': False, 'unless': False, 'gurl': False, 'appropri': False, 'teas': False, 'plz': False, 'rose': False, 'grave': False, 'bslvyl': False, 'somebodi': False, 'high': False, 'diesel': False, 'shit': False, 'shock': False, 'scari': False, 'imagin': False, 'def': False, 'somewher': False, 'taxi': False, 'fridg': False, 'meal': False, 'womdarful': False, 'actor': False, 'blind': False, 'numbru': False, 'roddsnumbr': False, 'aberdeen': False, 'unit': False, 'kingdom': False, 'img': False, 'w': False, 'icmbnumbrcktznumbrrnumbr': False, 'hide': False, 'remb': False, 'book': False, 'jo': False, 'friendship': False, 'hang': False, 'thread': False, 'themob': False, 'newest': False, 'game': False, 'tone': False, 'gossip': False, 'sport': False, 'fit': False, 'funki': False, 'garag': False, 'key': False, 'bookshelf': False, 'accept': False, 'sister': False, 'dearnumbr': False, 'bestnumbr': False, 'closnumbr': False, 'lvblefrnd': False, 'jstfrnd': False, 'cutefrnd': False, 'lifpartnr': False, 'belovd': False, 'swtheart': False, 'bstfrnd': False, 'enemi': False, 'smart': False, 'weekli': False, 'cs': False, 'winnersclub': False, 'mnumbr': False, 'numbruz': False, 'gbpnumbr': False, 'normal': False, 'rest': False, 'mylif': False, 'wot': False, 'lost': False, 'made': False, 'advanc': False, 'pongal': False, 'kb': False, 'power': False, 'yoga': False, 'dunno': False, 'tahan': False, 'anot': False, 'lo': False, 'dude': False, 'afraid': False, 'decemb': False, 'numbrmth': False, 'cake': False, 'merri': False, 'christma': False, 'kiss': False, 'cud': False, 'ppl': False, 'gona': False, 'lnumbr': False, 'buse': False, 'waitin': False, 'pete': False, 'guild': False, 'bristol': False, 'problem': False, 'track': False, 'record': False, 'read': False, 'women': False, 'light': False, 'apo': False, 'return': False, 'immedi': False, 'germani': False, 'line': False, 'via': False, 'access': False, 'prepay': False, 'evapor': False, 'violat': False, 'privaci': False, 'steal': False, 'employ': False, 'paperwork': False, 'report': False, 'supervisor': False, 'valentin': False, 'lifetim': False, 'rcvd': False, 'custcar': False, 'daaaaa': False, 'dine': False, 'surf': False, 'post': False, 'wiv': False, 'carolin': False, 'favourit': False, 'stranger': False, 'interest': False, 'two': False, 'round': False, 'gudnit': False, 'practic': False, 'yiju': False, 'huim': False, 'num': False, 'small': False, 'prestig': False, 'shag': False, 'sextextuk': False, 'xxuk': False, 'jeremiah': False, 'iphon': False, 'apeshit': False, 'ever': False, 'misbehav': False, 'slap': False, 'urself': False, 'fault': False, 'basic': False, 'figur': False, 'alcohol': False, 'jay': False, 'weed': False, 'ish': False, 'ago': False, 'wtf': False, 'onam': False, 'sirji': False, 'met': False, 'insur': False, 'insha': False, 'allah': False, 'rakhesh': False, 'ex': False, 'tata': False, 'aig': False, 'tissco': False, 'tayseer': False, 'current': False, 'maxim': False, 'cc': False, 'hg': False, 'suitenumbr': False, 'numbrland': False, 'row': False, 'wnumbrjnumbrhl': False, 'unemploy': False, 'moment': False, 'st': False, 'andrew': False, 'cold': False, 'chikku': False, 'db': False, 'audrey': False, 'statu': False, 'forward': False, 'dawn': False, 'refresh': False, 'aliv': False, 'breath': False, 'air': False, 'z': False, 'update_now': False, 'motorola': False, 'sonyericsson': False, 'bluetooth': False, 'orang': False, 'mobileupdnumbr': False, 'callnumbroptout': False, 'fnumbrq': False, 'discount': False, 'rpnumbr': False, 'regalportfolio': False, 'uniform': False, 'geeee': False, 'woke': False, 'cuddl': False, 'spoil': False, 'agre': False, 'will': False, 'refer': False, 'tnumbr': False, 'gbp': False, 'seen': False, 'recognis': False, 'lindsay': False, 'sigh': False, 'bar': False, 'ptbo': False, 'heron': False, 'payasam': False, 'rinu': False, 'bring': False, 'taught': False, 'becau': False, 'he': False, 'project': False, 'prabu': False, 'mistak': False, 'bodi': False, 'quit': False, 'slow': False, 'guid': False, 'ovul': False, 'relax': False, 'reason': False, 'followin': False, 'coupl': False, 'wallet': False, 'numbrmonth': False, 'nnumbrdx': False, 'owl': False, 'lick': False, 'mm': False, 'rental': False, 'mobilesdirect': False, 'ornumbrstoptxt': False, 'huh': False, 'sat': False, 'intro': False, 'pilat': False, 'kickbox': False, 'offic': False, 'lap': False, 'shut': False, 'bout': False, 'numbrish': False, 'calcul': False, 'period': False, 'actual': False, 'rock': False, 'put': False, 'pictur': False, 'ass': False, 'facebook': False, 'al': False, 'salam': False, 'wahleykkum': False, 'share': False, 'grace': False, 'god': False, 'inshah': False, 'visitor': False, 'india': False, 'field': False, 'quickli': False, 'administr': False, 'poli': False, 'numbrxmoneysymbnumbrpw': False, 'emoneysymbnd': False, 'chechi': False, 'cream': False, 'none': False, 'yep': False, 'loxahatche': False, 'tree': False, 'stoner': False, 'slightli': False, 'disastr': False, 'pm': False, 'fav': False, 'wld': False, 'drink': False, 'busetop': False, 'sender': False, 'fullonsm': False, 'iron': False, 'yan': False, 'jiu': False, 'skip': False, 'den': False, 'blah': False, 'wendi': False, 'l': False, 'boxnumbrsknumbrch': False, 'whatsup': False, 'competit': False, 'txttowin': False, 'logo': False, 'namenumbr': False, 'mobno': False, 'adam': False, 'eve': False, 'yahoo': False, 'poboxnumbrwnumbrwq': False, 'txtno': False, 'ad': False, 'poboxnumbrnnumbrtfnumbrp': False, 'siva': False, 'hostel': False, 'aha': False, 'land': False})))"
      ],
      "metadata": {
        "colab": {
          "base_uri": "https://localhost:8080/"
        },
        "id": "190fV-ANNoFZ",
        "outputId": "43b810b8-04a1-41d8-b232-3bb87a5235f8"
      },
      "execution_count": null,
      "outputs": [
        {
          "output_type": "stream",
          "name": "stdout",
          "text": [
            "1\n"
          ]
        }
      ]
    },
    {
      "cell_type": "code",
      "source": [],
      "metadata": {
        "id": "zYovdcXEOIGU"
      },
      "execution_count": null,
      "outputs": []
    }
  ]
}